{
 "cells": [
  {
   "cell_type": "code",
   "execution_count": 47,
   "metadata": {},
   "outputs": [
    {
     "name": "stdout",
     "output_type": "stream",
     "text": [
      "helo world"
     ]
    }
   ],
   "source": [
    "print(\"helo world\")"
   ]
  },
  {
   "cell_type": "code",
   "execution_count": 48,
   "metadata": {},
   "outputs": [
    {
     "data": {
      "text/plain": [
       "\u001b[32mimport \u001b[39m\u001b[36morg.apache.spark.SparkConf\n",
       "\u001b[39m\n",
       "\u001b[32mimport \u001b[39m\u001b[36morg.apache.spark.SparkContext\n",
       "// import org.apache.spark.rdd.RDD\n",
       "\u001b[39m"
      ]
     },
     "execution_count": 48,
     "metadata": {},
     "output_type": "execute_result"
    }
   ],
   "source": [
    "import org.apache.spark.SparkConf\n",
    "import org.apache.spark.SparkContext\n",
    "// import org.apache.spark.rdd.RDD\n"
   ]
  },
  {
   "cell_type": "code",
   "execution_count": 49,
   "metadata": {},
   "outputs": [
    {
     "data": {
      "text/plain": [
       "defined \u001b[32mobject\u001b[39m \u001b[36mWord\u001b[39m"
      ]
     },
     "execution_count": 49,
     "metadata": {},
     "output_type": "execute_result"
    }
   ],
   "source": [
    "object Word {\n",
    "\n",
    "  def countWords(sc: SparkContext) = {\n",
    "    // Load our input data\n",
    "    val input = sc.textFile(\"/Users/avinash/github/count.txt\")\n",
    "    // Split it up into words\n",
    "    val words = input.flatMap(line => line.split(\" \"))\n",
    "    // Transform into pairs and count\n",
    "    val counts = words.map(word => (word, 1)).reduceByKey { case (x, y) => x + y }\n",
    "    // Save the word count back out to a text file, causing evaluation.\n",
    "    counts.saveAsTextFile(\"/Users/avinash/github/xyz\")  // xyz should be directory\n",
    "      print(counts)\n",
    "  }\n",
    "\n",
    "  def main(args: Array[String]) = {\n",
    "    val conf = new SparkConf().setAppName(\"wordCount\").setMaster(\"local[*]\")\n",
    "    val sc =  SparkContext.getOrCreate(conf)\n",
    "    sc.setLogLevel(\"WARN\")\n",
    "    countWords(sc)\n",
    "  }\n",
    "}"
   ]
  },
  {
   "cell_type": "code",
   "execution_count": 50,
   "metadata": {},
   "outputs": [
    {
     "name": "stdout",
     "output_type": "stream",
     "text": [
      "ShuffledRDD[34] at reduceByKey at cmd48.sc:9"
     ]
    }
   ],
   "source": [
    "Word.main(Array())"
   ]
  },
  {
   "cell_type": "code",
   "execution_count": 51,
   "metadata": {},
   "outputs": [
    {
     "data": {
      "text/plain": [
       "defined \u001b[32mobject\u001b[39m \u001b[36mDemo\u001b[39m"
      ]
     },
     "execution_count": 51,
     "metadata": {},
     "output_type": "execute_result"
    }
   ],
   "source": [
    "object Demo {\n",
    "   def main(args: Array[String]) {\n",
    "      println( \"Returned Value : \" + addInt(5,7) );\n",
    "   }\n",
    "   \n",
    "   def addInt( a:Int, b:Int ) : Int = {\n",
    "      var sum:Int = 0\n",
    "      sum = a + b\n",
    "\n",
    "      return sum\n",
    "   }\n",
    "}"
   ]
  },
  {
   "cell_type": "code",
   "execution_count": 52,
   "metadata": {},
   "outputs": [
    {
     "name": "stdout",
     "output_type": "stream",
     "text": [
      "Returned Value : 12\n"
     ]
    }
   ],
   "source": [
    "Demo.main(Array())"
   ]
  },
  {
   "cell_type": "code",
   "execution_count": 53,
   "metadata": {},
   "outputs": [
    {
     "data": {
      "text/plain": [
       "defined \u001b[32mfunction\u001b[39m \u001b[36mpr\u001b[39m"
      ]
     },
     "execution_count": 53,
     "metadata": {},
     "output_type": "execute_result"
    }
   ],
   "source": [
    "def pr(data: String) = print(\"hello \"+data)"
   ]
  },
  {
   "cell_type": "code",
   "execution_count": 54,
   "metadata": {},
   "outputs": [
    {
     "name": "stdout",
     "output_type": "stream",
     "text": [
      "hello avi"
     ]
    }
   ],
   "source": [
    "pr(\"avi\")"
   ]
  },
  {
   "cell_type": "code",
   "execution_count": null,
   "metadata": {},
   "outputs": [],
   "source": []
  }
 ],
 "metadata": {
  "kernelspec": {
   "display_name": "Scala",
   "language": "scala",
   "name": "scala"
  },
  "language_info": {
   "codemirror_mode": "text/x-scala",
   "file_extension": ".scala",
   "mimetype": "text/x-scala",
   "name": "scala211",
   "nbconvert_exporter": "script",
   "pygments_lexer": "scala",
   "version": "2.11.11"
  }
 },
 "nbformat": 4,
 "nbformat_minor": 2
}
